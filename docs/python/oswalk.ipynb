{
 "metadata": {
  "language_info": {
   "codemirror_mode": {
    "name": "ipython",
    "version": 3
   },
   "file_extension": ".py",
   "mimetype": "text/x-python",
   "name": "python",
   "nbconvert_exporter": "python",
   "pygments_lexer": "ipython3",
   "version": "3.8.5-final"
  },
  "orig_nbformat": 2,
  "kernelspec": {
   "name": "python3",
   "display_name": "Python 3",
   "language": "python"
  }
 },
 "nbformat": 4,
 "nbformat_minor": 2,
 "cells": [
  {
   "cell_type": "code",
   "execution_count": 17,
   "metadata": {},
   "outputs": [],
   "source": [
    "import os"
   ]
  },
  {
   "cell_type": "code",
   "execution_count": 22,
   "metadata": {},
   "outputs": [
    {
     "output_type": "execute_result",
     "data": {
      "text/plain": [
       "['../../quickstart/content\\\\python\\\\convert_to_markdown.ipynb',\n",
       " '../../quickstart/content\\\\python\\\\load_csv.ipynb',\n",
       " '../../quickstart/content\\\\python\\\\load_json.ipynb',\n",
       " '../../quickstart/content\\\\python\\\\.ipynb_checkpoints\\\\load_csv-checkpoint.ipynb']"
      ]
     },
     "metadata": {},
     "execution_count": 22
    }
   ],
   "source": [
    "\n",
    "path = '../../quickstart/content'\n",
    "\n",
    "\n",
    "# Find all jupyter notebooks in all content folders\n",
    "all_ipynb_files = [os.path.join(root, name)\n",
    "    for root, dirs, files in os.walk(path)\n",
    "        for name in files\n",
    "            if name.endswith((\".ipynb\"))]\n",
    "all_ipynb_files"
   ]
  },
  {
   "cell_type": "code",
   "execution_count": 25,
   "metadata": {},
   "outputs": [
    {
     "output_type": "execute_result",
     "data": {
      "text/plain": [
       "0"
      ]
     },
     "metadata": {},
     "execution_count": 25
    }
   ],
   "source": [
    "# SYSTEM OS EXAMPLE\n",
    "# Command to execute \n",
    "# Using Windows OS command \n",
    "# cmd = 'start chrome'\n",
    "cmd = 'notepad'\n",
    "  \n",
    "# Using os.system() method \n",
    "os.system(cmd) "
   ]
  },
  {
   "cell_type": "code",
   "execution_count": null,
   "metadata": {},
   "outputs": [],
   "source": []
  }
 ]
}