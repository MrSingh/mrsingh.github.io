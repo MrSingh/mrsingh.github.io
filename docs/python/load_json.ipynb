{
 "metadata": {
  "language_info": {
   "codemirror_mode": {
    "name": "ipython",
    "version": 3
   },
   "file_extension": ".py",
   "mimetype": "text/x-python",
   "name": "python",
   "nbconvert_exporter": "python",
   "pygments_lexer": "ipython3",
   "version": "3.9.0-final"
  },
  "orig_nbformat": 2,
  "kernelspec": {
   "name": "python3",
   "display_name": "Python 3.9.0 64-bit",
   "metadata": {
    "interpreter": {
     "hash": "ee5cc6fef2d70a7e71ee3826687cbd150f18158e0b1eef11d4f4f92bb920e304"
    }
   }
  }
 },
 "nbformat": 4,
 "nbformat_minor": 2,
 "cells": [
  {
   "source": [
    "---\n",
    "title: \"Load a JSON\"\n",
    "author: \"Puneet Thukral\"\n",
    "date: 2021-01-24T00:00:00-08:00\n",
    "draft: false\n",
    "---"
   ],
   "cell_type": "markdown",
   "metadata": {}
  },
  {
   "cell_type": "code",
   "execution_count": 1,
   "metadata": {},
   "outputs": [],
   "source": [
    "import pandas as pd"
   ]
  },
  {
   "cell_type": "code",
   "execution_count": 2,
   "metadata": {},
   "outputs": [],
   "source": [
    "#Set JSON filepath\n",
    "json_filepath = \"data/load_json_example.json\""
   ]
  },
  {
   "cell_type": "code",
   "execution_count": 3,
   "metadata": {},
   "outputs": [
    {
     "output_type": "execute_result",
     "data": {
      "text/plain": [
       "   user_name   identifier first_name last_name\n",
       "0   booker12       9012.0     Rachel    Booker\n",
       "1     grey07       2070.0      Laura      Grey\n",
       "2  johnson81       4081.0      Craig   Johnson\n",
       "3  jenkins46       9346.0       Mary   Jenkins\n",
       "4    smith79       5079.0      Jamie     Smith\n",
       "5                     NaN        NaN       NaN\n",
       "6                     NaN        NaN       NaN"
      ],
      "text/html": "<div>\n<style scoped>\n    .dataframe tbody tr th:only-of-type {\n        vertical-align: middle;\n    }\n\n    .dataframe tbody tr th {\n        vertical-align: top;\n    }\n\n    .dataframe thead th {\n        text-align: right;\n    }\n</style>\n<table border=\"1\" class=\"dataframe\">\n  <thead>\n    <tr style=\"text-align: right;\">\n      <th></th>\n      <th>user_name</th>\n      <th>identifier</th>\n      <th>first_name</th>\n      <th>last_name</th>\n    </tr>\n  </thead>\n  <tbody>\n    <tr>\n      <th>0</th>\n      <td>booker12</td>\n      <td>9012.0</td>\n      <td>Rachel</td>\n      <td>Booker</td>\n    </tr>\n    <tr>\n      <th>1</th>\n      <td>grey07</td>\n      <td>2070.0</td>\n      <td>Laura</td>\n      <td>Grey</td>\n    </tr>\n    <tr>\n      <th>2</th>\n      <td>johnson81</td>\n      <td>4081.0</td>\n      <td>Craig</td>\n      <td>Johnson</td>\n    </tr>\n    <tr>\n      <th>3</th>\n      <td>jenkins46</td>\n      <td>9346.0</td>\n      <td>Mary</td>\n      <td>Jenkins</td>\n    </tr>\n    <tr>\n      <th>4</th>\n      <td>smith79</td>\n      <td>5079.0</td>\n      <td>Jamie</td>\n      <td>Smith</td>\n    </tr>\n    <tr>\n      <th>5</th>\n      <td></td>\n      <td>NaN</td>\n      <td>NaN</td>\n      <td>NaN</td>\n    </tr>\n    <tr>\n      <th>6</th>\n      <td></td>\n      <td>NaN</td>\n      <td>NaN</td>\n      <td>NaN</td>\n    </tr>\n  </tbody>\n</table>\n</div>"
     },
     "metadata": {},
     "execution_count": 3
    }
   ],
   "source": [
    "#default is 'columns'\n",
    "df = pd.read_json(json_filepath, orient=\"columns\")\n",
    "df"
   ]
  }
 ]
}