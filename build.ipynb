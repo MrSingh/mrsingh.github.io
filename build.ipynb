{
 "metadata": {
  "language_info": {
   "codemirror_mode": {
    "name": "ipython",
    "version": 3
   },
   "file_extension": ".py",
   "mimetype": "text/x-python",
   "name": "python",
   "nbconvert_exporter": "python",
   "pygments_lexer": "ipython3",
   "version": "3.8.5-final"
  },
  "orig_nbformat": 2,
  "kernelspec": {
   "name": "python3",
   "display_name": "Python 3",
   "language": "python"
  }
 },
 "nbformat": 4,
 "nbformat_minor": 2,
 "cells": [
  {
   "cell_type": "code",
   "execution_count": 1,
   "metadata": {},
   "outputs": [],
   "source": [
    "# Load libraries\n",
    "import os\n",
    "import re\n",
    "import fileinput\n",
    "import sys\n",
    "from glob import glob\n",
    "import shutil\n",
    "from pathlib import Path\n",
    "import os.path\n"
   ]
  },
  {
   "source": [
    "## Convert Juypter NoteBooks to Markdown"
   ],
   "cell_type": "markdown",
   "metadata": {}
  },
  {
   "cell_type": "code",
   "execution_count": 3,
   "metadata": {},
   "outputs": [],
   "source": [
    "path = 'content/'\n",
    "\n",
    "# Find all jupyter notebooks in all content folders\n",
    "all_ipynb_files = [os.path.join(root, name)\n",
    "                   for root, dirs, files in os.walk(path)\n",
    "                       for name in files\n",
    "                           if name.endswith((\".ipynb\"))]\n",
    "\n",
    "# Remove all notebooks from checkpoint folders\n",
    "ipynb_files = [ x for x in all_ipynb_files if \".ipynb_checkpoints\" not in x ]\n",
    "\n",
    "# For each file\n",
    "for file in ipynb_files:\n",
    "    # Convert into markdown\n",
    "    os.system('jupyter nbconvert --to markdown {file}'.format(file=file))\n"
   ]
  },
  {
   "source": [
    "## Move image files from generated folders to static images folders"
   ],
   "cell_type": "markdown",
   "metadata": {}
  },
  {
   "cell_type": "code",
   "execution_count": 12,
   "metadata": {},
   "outputs": [],
   "source": [
    "## TODO \n",
    "# CREATE A FEATURE BRANCH BEFORE PLAYING WITH THIS AGAIN ##\n",
    "## TODO \n",
    "\n",
    "##TODO Modify to check if file already exists in location https://linuxize.com/post/python-check-if-file-exists/ # https://stackoverflow.com/questions/82831/how-do-i-check-whether-a-file-exists-without-exceptions\n",
    "############ DANGER ##################\n",
    "# Creates Folder in the wrong location eg. static/images/content/python\\brooks_data_analysis_files\n",
    "#TODO FIX so that content folder is not includede\n",
    "#TODO FIX Issues with \n",
    "\n",
    "## Move all Juypter Notebook Image files to Images Folder   \n",
    "# source_dir = 'content'\n",
    "# target_dir = 'static/images'\n",
    "\n",
    "# # Get all folders in directory\n",
    "# #folders = [x[0] for x in os.walk(source_dir)]\n",
    "\n",
    "# #Delete .ipynb checkpoint folders\n",
    "# folders = [ x for x in folders if \".ipynb_checkpoints\" not in x ]\n",
    "\n",
    "# # For each folder\n",
    "# for folder_name in folders:\n",
    "#     #if _files in folder_name:\n",
    "#     new_folder = target_dir + \"\\\\\" + folder_name\n",
    "#     if '_files' in folder_name:        \n",
    "#         new_folder = target_dir + \"\\\\\" + folder_name\n",
    "#         print(new_folder)\n",
    "#         shutil.copytree(folder_name, new_folder, dirs_exist_ok=True) \n",
    "\n",
    "\n"
   ]
  },
  {
   "source": [
    "## Check generated folders are empty before deleting"
   ],
   "cell_type": "markdown",
   "metadata": {}
  },
  {
   "cell_type": "code",
   "execution_count": 10,
   "metadata": {},
   "outputs": [],
   "source": [
    "# Delete folders # Call this folder once the files have been moved\n",
    "def delete_folders(folder_name):\n",
    "    # check folder is empty before deleting\n",
    "    if '_files' in folder_name:\n",
    "        if not os.listdir(folder_name):\n",
    "            print(\"empty\")\n",
    "        else:\n",
    "            shutil.rmtree(folder_name)\n",
    "            print(folder_name)\n"
   ]
  },
  {
   "cell_type": "code",
   "execution_count": 11,
   "metadata": {},
   "outputs": [
    {
     "output_type": "stream",
     "name": "stdout",
     "text": [
      "docs/python/brooks_data_analysis_files\n"
     ]
    }
   ],
   "source": [
    "delete_folders('docs/python/brooks_data_analysis_files')"
   ]
  },
  {
   "source": [
    "# Use folder names to find md files of that name and change links i those folders\n",
    "for folder_name in folders:\n",
    "    if '_files' in folder_name:\n",
    "        print(folder_name)\n",
    "        # name_1 = folder_name.split(\"_files\")\n",
    "        # print(name_1)\n",
    "        name_2 = folder_name.split(\"\\\\\")\n",
    "        print(name_2)"
   ],
   "cell_type": "markdown",
   "metadata": {}
  },
  {
   "cell_type": "code",
   "execution_count": null,
   "metadata": {},
   "outputs": [],
   "source": []
  }
 ]
}